{
  "cells": [
    {
      "cell_type": "code",
      "execution_count": 1,
      "metadata": {
        "id": "qSq5V2OPogbc"
      },
      "outputs": [],
      "source": [
        "# Importar los paquetes python que necesitamos\n",
        "import numpy as np\n",
        "import pandas as pd\n",
        "import math\n",
        "\n",
        "# Obtener el archivo de reporte microchip\n",
        "pet = pd.read_excel(\"https://github.com/darcy2411/Proyecto-/blob/main/Reporte_Mascotas_Microchip.xlsx?raw=true\")"
      ]
    },
    {
      "cell_type": "code",
      "execution_count": null,
      "metadata": {
        "colab": {
          "base_uri": "https://localhost:8080/",
          "height": 212
        },
        "id": "t67S4JsM8jVc",
        "outputId": "1e12d213-ed72-4693-9ccc-90ec091762d8"
      },
      "outputs": [
        {
          "data": {
            "text/html": [
              "\n",
              "  <div id=\"df-77cf56c6-d539-4dc2-a868-bfe6e6720095\">\n",
              "    <div class=\"colab-df-container\">\n",
              "      <div>\n",
              "<style scoped>\n",
              "    .dataframe tbody tr th:only-of-type {\n",
              "        vertical-align: middle;\n",
              "    }\n",
              "\n",
              "    .dataframe tbody tr th {\n",
              "        vertical-align: top;\n",
              "    }\n",
              "\n",
              "    .dataframe thead th {\n",
              "        text-align: right;\n",
              "    }\n",
              "</style>\n",
              "<table border=\"1\" class=\"dataframe\">\n",
              "  <thead>\n",
              "    <tr style=\"text-align: right;\">\n",
              "      <th></th>\n",
              "      <th>MICROCHIP</th>\n",
              "      <th>FECHA REG. IMPLANTE</th>\n",
              "      <th>ESPECIE</th>\n",
              "      <th>SEXO</th>\n",
              "      <th>RAZA</th>\n",
              "      <th>NOMBRE ANIMAL</th>\n",
              "      <th>ESTERILIZACION</th>\n",
              "      <th>LOCALIDAD</th>\n",
              "      <th>ESTRATO</th>\n",
              "    </tr>\n",
              "  </thead>\n",
              "  <tbody>\n",
              "    <tr>\n",
              "      <th>0</th>\n",
              "      <td>991001000889072</td>\n",
              "      <td>2019-12-31</td>\n",
              "      <td>Felino</td>\n",
              "      <td>Hembra</td>\n",
              "      <td>CRIOLLO</td>\n",
              "      <td>SABRINA</td>\n",
              "      <td>NO REGISTRADA</td>\n",
              "      <td>Usaquén</td>\n",
              "      <td>6</td>\n",
              "    </tr>\n",
              "    <tr>\n",
              "      <th>1</th>\n",
              "      <td>900113000921282</td>\n",
              "      <td>2019-12-30</td>\n",
              "      <td>Canino</td>\n",
              "      <td>Hembra</td>\n",
              "      <td>SAMOYEDO</td>\n",
              "      <td>MILÚ</td>\n",
              "      <td>REGISTRADA</td>\n",
              "      <td>Kennedy</td>\n",
              "      <td>3</td>\n",
              "    </tr>\n",
              "    <tr>\n",
              "      <th>2</th>\n",
              "      <td>900113000921300</td>\n",
              "      <td>2019-12-30</td>\n",
              "      <td>Canino</td>\n",
              "      <td>Hembra</td>\n",
              "      <td>HUSKY SIBERIANO</td>\n",
              "      <td>MIA</td>\n",
              "      <td>NO REGISTRADA</td>\n",
              "      <td>Kennedy</td>\n",
              "      <td>3</td>\n",
              "    </tr>\n",
              "    <tr>\n",
              "      <th>3</th>\n",
              "      <td>941000024227879</td>\n",
              "      <td>2019-12-30</td>\n",
              "      <td>Felino</td>\n",
              "      <td>Hembra</td>\n",
              "      <td>CRIOLLO</td>\n",
              "      <td>SOFIA</td>\n",
              "      <td>REGISTRADA</td>\n",
              "      <td>Usaquén</td>\n",
              "      <td>5</td>\n",
              "    </tr>\n",
              "    <tr>\n",
              "      <th>4</th>\n",
              "      <td>941000023941947</td>\n",
              "      <td>2019-12-29</td>\n",
              "      <td>Felino</td>\n",
              "      <td>Macho</td>\n",
              "      <td>PERSA</td>\n",
              "      <td>DAVINCI</td>\n",
              "      <td>NO REGISTRADA</td>\n",
              "      <td>Kennedy</td>\n",
              "      <td>3</td>\n",
              "    </tr>\n",
              "  </tbody>\n",
              "</table>\n",
              "</div>\n",
              "      <button class=\"colab-df-convert\" onclick=\"convertToInteractive('df-77cf56c6-d539-4dc2-a868-bfe6e6720095')\"\n",
              "              title=\"Convert this dataframe to an interactive table.\"\n",
              "              style=\"display:none;\">\n",
              "        \n",
              "  <svg xmlns=\"http://www.w3.org/2000/svg\" height=\"24px\"viewBox=\"0 0 24 24\"\n",
              "       width=\"24px\">\n",
              "    <path d=\"M0 0h24v24H0V0z\" fill=\"none\"/>\n",
              "    <path d=\"M18.56 5.44l.94 2.06.94-2.06 2.06-.94-2.06-.94-.94-2.06-.94 2.06-2.06.94zm-11 1L8.5 8.5l.94-2.06 2.06-.94-2.06-.94L8.5 2.5l-.94 2.06-2.06.94zm10 10l.94 2.06.94-2.06 2.06-.94-2.06-.94-.94-2.06-.94 2.06-2.06.94z\"/><path d=\"M17.41 7.96l-1.37-1.37c-.4-.4-.92-.59-1.43-.59-.52 0-1.04.2-1.43.59L10.3 9.45l-7.72 7.72c-.78.78-.78 2.05 0 2.83L4 21.41c.39.39.9.59 1.41.59.51 0 1.02-.2 1.41-.59l7.78-7.78 2.81-2.81c.8-.78.8-2.07 0-2.86zM5.41 20L4 18.59l7.72-7.72 1.47 1.35L5.41 20z\"/>\n",
              "  </svg>\n",
              "      </button>\n",
              "      \n",
              "  <style>\n",
              "    .colab-df-container {\n",
              "      display:flex;\n",
              "      flex-wrap:wrap;\n",
              "      gap: 12px;\n",
              "    }\n",
              "\n",
              "    .colab-df-convert {\n",
              "      background-color: #E8F0FE;\n",
              "      border: none;\n",
              "      border-radius: 50%;\n",
              "      cursor: pointer;\n",
              "      display: none;\n",
              "      fill: #1967D2;\n",
              "      height: 32px;\n",
              "      padding: 0 0 0 0;\n",
              "      width: 32px;\n",
              "    }\n",
              "\n",
              "    .colab-df-convert:hover {\n",
              "      background-color: #E2EBFA;\n",
              "      box-shadow: 0px 1px 2px rgba(60, 64, 67, 0.3), 0px 1px 3px 1px rgba(60, 64, 67, 0.15);\n",
              "      fill: #174EA6;\n",
              "    }\n",
              "\n",
              "    [theme=dark] .colab-df-convert {\n",
              "      background-color: #3B4455;\n",
              "      fill: #D2E3FC;\n",
              "    }\n",
              "\n",
              "    [theme=dark] .colab-df-convert:hover {\n",
              "      background-color: #434B5C;\n",
              "      box-shadow: 0px 1px 3px 1px rgba(0, 0, 0, 0.15);\n",
              "      filter: drop-shadow(0px 1px 2px rgba(0, 0, 0, 0.3));\n",
              "      fill: #FFFFFF;\n",
              "    }\n",
              "  </style>\n",
              "\n",
              "      <script>\n",
              "        const buttonEl =\n",
              "          document.querySelector('#df-77cf56c6-d539-4dc2-a868-bfe6e6720095 button.colab-df-convert');\n",
              "        buttonEl.style.display =\n",
              "          google.colab.kernel.accessAllowed ? 'block' : 'none';\n",
              "\n",
              "        async function convertToInteractive(key) {\n",
              "          const element = document.querySelector('#df-77cf56c6-d539-4dc2-a868-bfe6e6720095');\n",
              "          const dataTable =\n",
              "            await google.colab.kernel.invokeFunction('convertToInteractive',\n",
              "                                                     [key], {});\n",
              "          if (!dataTable) return;\n",
              "\n",
              "          const docLinkHtml = 'Like what you see? Visit the ' +\n",
              "            '<a target=\"_blank\" href=https://colab.research.google.com/notebooks/data_table.ipynb>data table notebook</a>'\n",
              "            + ' to learn more about interactive tables.';\n",
              "          element.innerHTML = '';\n",
              "          dataTable['output_type'] = 'display_data';\n",
              "          await google.colab.output.renderOutput(dataTable, element);\n",
              "          const docLink = document.createElement('div');\n",
              "          docLink.innerHTML = docLinkHtml;\n",
              "          element.appendChild(docLink);\n",
              "        }\n",
              "      </script>\n",
              "    </div>\n",
              "  </div>\n",
              "  "
            ],
            "text/plain": [
              "         MICROCHIP FECHA REG. IMPLANTE ESPECIE    SEXO             RAZA  \\\n",
              "0  991001000889072          2019-12-31  Felino  Hembra          CRIOLLO   \n",
              "1  900113000921282          2019-12-30  Canino  Hembra         SAMOYEDO   \n",
              "2  900113000921300          2019-12-30  Canino  Hembra  HUSKY SIBERIANO   \n",
              "3  941000024227879          2019-12-30  Felino  Hembra          CRIOLLO   \n",
              "4  941000023941947          2019-12-29  Felino   Macho            PERSA   \n",
              "\n",
              "  NOMBRE ANIMAL ESTERILIZACION LOCALIDAD  ESTRATO  \n",
              "0       SABRINA  NO REGISTRADA   Usaquén        6  \n",
              "1          MILÚ     REGISTRADA   Kennedy        3  \n",
              "2           MIA  NO REGISTRADA   Kennedy        3  \n",
              "3         SOFIA     REGISTRADA   Usaquén        5  \n",
              "4       DAVINCI  NO REGISTRADA   Kennedy        3  "
            ]
          },
          "execution_count": 2,
          "metadata": {},
          "output_type": "execute_result"
        }
      ],
      "source": [
        "pet.head()"
      ]
    },
    {
      "cell_type": "code",
      "execution_count": null,
      "metadata": {
        "colab": {
          "base_uri": "https://localhost:8080/",
          "height": 320
        },
        "id": "s8oUEIYinDRZ",
        "outputId": "9c48428d-bbf0-4898-c5ae-c6cfe2572620"
      },
      "outputs": [
        {
          "data": {
            "text/html": [
              "\n",
              "  <div id=\"df-89f506cc-d2ff-414d-84e7-727cdb83bc18\">\n",
              "    <div class=\"colab-df-container\">\n",
              "      <div>\n",
              "<style scoped>\n",
              "    .dataframe tbody tr th:only-of-type {\n",
              "        vertical-align: middle;\n",
              "    }\n",
              "\n",
              "    .dataframe tbody tr th {\n",
              "        vertical-align: top;\n",
              "    }\n",
              "\n",
              "    .dataframe thead th {\n",
              "        text-align: right;\n",
              "    }\n",
              "</style>\n",
              "<table border=\"1\" class=\"dataframe\">\n",
              "  <thead>\n",
              "    <tr style=\"text-align: right;\">\n",
              "      <th></th>\n",
              "      <th>MICROCHIP</th>\n",
              "      <th>FECHA REG. IMPLANTE</th>\n",
              "      <th>ESPECIE</th>\n",
              "      <th>SEXO</th>\n",
              "      <th>RAZA</th>\n",
              "      <th>NOMBRE ANIMAL</th>\n",
              "      <th>ESTERILIZACION</th>\n",
              "      <th>LOCALIDAD</th>\n",
              "      <th>ESTRATO</th>\n",
              "    </tr>\n",
              "  </thead>\n",
              "  <tbody>\n",
              "    <tr>\n",
              "      <th>0</th>\n",
              "      <td>991001000889072</td>\n",
              "      <td>2019-12-31</td>\n",
              "      <td>Felino</td>\n",
              "      <td>Hembra</td>\n",
              "      <td>CRIOLLO</td>\n",
              "      <td>SABRINA</td>\n",
              "      <td>NO REGISTRADA</td>\n",
              "      <td>Usaquén</td>\n",
              "      <td>6</td>\n",
              "    </tr>\n",
              "    <tr>\n",
              "      <th>1</th>\n",
              "      <td>900113000921282</td>\n",
              "      <td>2019-12-30</td>\n",
              "      <td>Canino</td>\n",
              "      <td>Hembra</td>\n",
              "      <td>SAMOYEDO</td>\n",
              "      <td>MILÚ</td>\n",
              "      <td>REGISTRADA</td>\n",
              "      <td>Kennedy</td>\n",
              "      <td>3</td>\n",
              "    </tr>\n",
              "    <tr>\n",
              "      <th>2</th>\n",
              "      <td>900113000921300</td>\n",
              "      <td>2019-12-30</td>\n",
              "      <td>Canino</td>\n",
              "      <td>Hembra</td>\n",
              "      <td>HUSKY SIBERIANO</td>\n",
              "      <td>MIA</td>\n",
              "      <td>NO REGISTRADA</td>\n",
              "      <td>Kennedy</td>\n",
              "      <td>3</td>\n",
              "    </tr>\n",
              "    <tr>\n",
              "      <th>3</th>\n",
              "      <td>941000024227879</td>\n",
              "      <td>2019-12-30</td>\n",
              "      <td>Felino</td>\n",
              "      <td>Hembra</td>\n",
              "      <td>CRIOLLO</td>\n",
              "      <td>SOFIA</td>\n",
              "      <td>REGISTRADA</td>\n",
              "      <td>Usaquén</td>\n",
              "      <td>5</td>\n",
              "    </tr>\n",
              "    <tr>\n",
              "      <th>4</th>\n",
              "      <td>941000023941947</td>\n",
              "      <td>2019-12-29</td>\n",
              "      <td>Felino</td>\n",
              "      <td>Macho</td>\n",
              "      <td>PERSA</td>\n",
              "      <td>DAVINCI</td>\n",
              "      <td>NO REGISTRADA</td>\n",
              "      <td>Kennedy</td>\n",
              "      <td>3</td>\n",
              "    </tr>\n",
              "    <tr>\n",
              "      <th>5</th>\n",
              "      <td>941000023941951</td>\n",
              "      <td>2019-12-29</td>\n",
              "      <td>Canino</td>\n",
              "      <td>Macho</td>\n",
              "      <td>BULLDOG FRANCES</td>\n",
              "      <td>NEWTON</td>\n",
              "      <td>NO REGISTRADA</td>\n",
              "      <td>Kennedy</td>\n",
              "      <td>3</td>\n",
              "    </tr>\n",
              "    <tr>\n",
              "      <th>6</th>\n",
              "      <td>941000024227932</td>\n",
              "      <td>2019-12-29</td>\n",
              "      <td>Canino</td>\n",
              "      <td>Hembra</td>\n",
              "      <td>PASTOR OVEJERO</td>\n",
              "      <td>PULGA</td>\n",
              "      <td>REGISTRADA</td>\n",
              "      <td>Suba</td>\n",
              "      <td>5</td>\n",
              "    </tr>\n",
              "    <tr>\n",
              "      <th>7</th>\n",
              "      <td>941000024227958</td>\n",
              "      <td>2019-12-28</td>\n",
              "      <td>Felino</td>\n",
              "      <td>Hembra</td>\n",
              "      <td>CRIOLLO</td>\n",
              "      <td>ZURY</td>\n",
              "      <td>NO REGISTRADA</td>\n",
              "      <td>Fontibón</td>\n",
              "      <td>3</td>\n",
              "    </tr>\n",
              "    <tr>\n",
              "      <th>8</th>\n",
              "      <td>966000101114635</td>\n",
              "      <td>2019-12-28</td>\n",
              "      <td>Canino</td>\n",
              "      <td>Macho</td>\n",
              "      <td>WEIMARANER</td>\n",
              "      <td>ROCKY</td>\n",
              "      <td>REGISTRADA</td>\n",
              "      <td>Suba</td>\n",
              "      <td>3</td>\n",
              "    </tr>\n",
              "    <tr>\n",
              "      <th>9</th>\n",
              "      <td>966000101114817</td>\n",
              "      <td>2019-12-28</td>\n",
              "      <td>Canino</td>\n",
              "      <td>Macho</td>\n",
              "      <td>SPRINGER SPANIEL INGLES</td>\n",
              "      <td>LEGOLAS</td>\n",
              "      <td>REGISTRADA</td>\n",
              "      <td>Suba</td>\n",
              "      <td>3</td>\n",
              "    </tr>\n",
              "  </tbody>\n",
              "</table>\n",
              "</div>\n",
              "      <button class=\"colab-df-convert\" onclick=\"convertToInteractive('df-89f506cc-d2ff-414d-84e7-727cdb83bc18')\"\n",
              "              title=\"Convert this dataframe to an interactive table.\"\n",
              "              style=\"display:none;\">\n",
              "        \n",
              "  <svg xmlns=\"http://www.w3.org/2000/svg\" height=\"24px\"viewBox=\"0 0 24 24\"\n",
              "       width=\"24px\">\n",
              "    <path d=\"M0 0h24v24H0V0z\" fill=\"none\"/>\n",
              "    <path d=\"M18.56 5.44l.94 2.06.94-2.06 2.06-.94-2.06-.94-.94-2.06-.94 2.06-2.06.94zm-11 1L8.5 8.5l.94-2.06 2.06-.94-2.06-.94L8.5 2.5l-.94 2.06-2.06.94zm10 10l.94 2.06.94-2.06 2.06-.94-2.06-.94-.94-2.06-.94 2.06-2.06.94z\"/><path d=\"M17.41 7.96l-1.37-1.37c-.4-.4-.92-.59-1.43-.59-.52 0-1.04.2-1.43.59L10.3 9.45l-7.72 7.72c-.78.78-.78 2.05 0 2.83L4 21.41c.39.39.9.59 1.41.59.51 0 1.02-.2 1.41-.59l7.78-7.78 2.81-2.81c.8-.78.8-2.07 0-2.86zM5.41 20L4 18.59l7.72-7.72 1.47 1.35L5.41 20z\"/>\n",
              "  </svg>\n",
              "      </button>\n",
              "      \n",
              "  <style>\n",
              "    .colab-df-container {\n",
              "      display:flex;\n",
              "      flex-wrap:wrap;\n",
              "      gap: 12px;\n",
              "    }\n",
              "\n",
              "    .colab-df-convert {\n",
              "      background-color: #E8F0FE;\n",
              "      border: none;\n",
              "      border-radius: 50%;\n",
              "      cursor: pointer;\n",
              "      display: none;\n",
              "      fill: #1967D2;\n",
              "      height: 32px;\n",
              "      padding: 0 0 0 0;\n",
              "      width: 32px;\n",
              "    }\n",
              "\n",
              "    .colab-df-convert:hover {\n",
              "      background-color: #E2EBFA;\n",
              "      box-shadow: 0px 1px 2px rgba(60, 64, 67, 0.3), 0px 1px 3px 1px rgba(60, 64, 67, 0.15);\n",
              "      fill: #174EA6;\n",
              "    }\n",
              "\n",
              "    [theme=dark] .colab-df-convert {\n",
              "      background-color: #3B4455;\n",
              "      fill: #D2E3FC;\n",
              "    }\n",
              "\n",
              "    [theme=dark] .colab-df-convert:hover {\n",
              "      background-color: #434B5C;\n",
              "      box-shadow: 0px 1px 3px 1px rgba(0, 0, 0, 0.15);\n",
              "      filter: drop-shadow(0px 1px 2px rgba(0, 0, 0, 0.3));\n",
              "      fill: #FFFFFF;\n",
              "    }\n",
              "  </style>\n",
              "\n",
              "      <script>\n",
              "        const buttonEl =\n",
              "          document.querySelector('#df-89f506cc-d2ff-414d-84e7-727cdb83bc18 button.colab-df-convert');\n",
              "        buttonEl.style.display =\n",
              "          google.colab.kernel.accessAllowed ? 'block' : 'none';\n",
              "\n",
              "        async function convertToInteractive(key) {\n",
              "          const element = document.querySelector('#df-89f506cc-d2ff-414d-84e7-727cdb83bc18');\n",
              "          const dataTable =\n",
              "            await google.colab.kernel.invokeFunction('convertToInteractive',\n",
              "                                                     [key], {});\n",
              "          if (!dataTable) return;\n",
              "\n",
              "          const docLinkHtml = 'Like what you see? Visit the ' +\n",
              "            '<a target=\"_blank\" href=https://colab.research.google.com/notebooks/data_table.ipynb>data table notebook</a>'\n",
              "            + ' to learn more about interactive tables.';\n",
              "          element.innerHTML = '';\n",
              "          dataTable['output_type'] = 'display_data';\n",
              "          await google.colab.output.renderOutput(dataTable, element);\n",
              "          const docLink = document.createElement('div');\n",
              "          docLink.innerHTML = docLinkHtml;\n",
              "          element.appendChild(docLink);\n",
              "        }\n",
              "      </script>\n",
              "    </div>\n",
              "  </div>\n",
              "  "
            ],
            "text/plain": [
              "         MICROCHIP FECHA REG. IMPLANTE ESPECIE    SEXO  \\\n",
              "0  991001000889072          2019-12-31  Felino  Hembra   \n",
              "1  900113000921282          2019-12-30  Canino  Hembra   \n",
              "2  900113000921300          2019-12-30  Canino  Hembra   \n",
              "3  941000024227879          2019-12-30  Felino  Hembra   \n",
              "4  941000023941947          2019-12-29  Felino   Macho   \n",
              "5  941000023941951          2019-12-29  Canino   Macho   \n",
              "6  941000024227932          2019-12-29  Canino  Hembra   \n",
              "7  941000024227958          2019-12-28  Felino  Hembra   \n",
              "8  966000101114635          2019-12-28  Canino   Macho   \n",
              "9  966000101114817          2019-12-28  Canino   Macho   \n",
              "\n",
              "                      RAZA NOMBRE ANIMAL ESTERILIZACION LOCALIDAD  ESTRATO  \n",
              "0                  CRIOLLO       SABRINA  NO REGISTRADA   Usaquén        6  \n",
              "1                 SAMOYEDO          MILÚ     REGISTRADA   Kennedy        3  \n",
              "2          HUSKY SIBERIANO           MIA  NO REGISTRADA   Kennedy        3  \n",
              "3                  CRIOLLO         SOFIA     REGISTRADA   Usaquén        5  \n",
              "4                    PERSA       DAVINCI  NO REGISTRADA   Kennedy        3  \n",
              "5          BULLDOG FRANCES        NEWTON  NO REGISTRADA   Kennedy        3  \n",
              "6           PASTOR OVEJERO         PULGA     REGISTRADA      Suba        5  \n",
              "7                  CRIOLLO          ZURY  NO REGISTRADA  Fontibón        3  \n",
              "8               WEIMARANER         ROCKY     REGISTRADA      Suba        3  \n",
              "9  SPRINGER SPANIEL INGLES       LEGOLAS     REGISTRADA      Suba        3  "
            ]
          },
          "execution_count": 3,
          "metadata": {},
          "output_type": "execute_result"
        }
      ],
      "source": [
        "pet.head(n = 10)"
      ]
    },
    {
      "cell_type": "markdown",
      "metadata": {
        "id": "P9fQRmlO5_yR"
      },
      "source": [
        "## Pregunta #1\n",
        "\n",
        "¿Cuál es el nombre que más se repite en la especie de felinos por localidad?"
      ]
    },
    {
      "cell_type": "code",
      "execution_count": null,
      "metadata": {
        "colab": {
          "base_uri": "https://localhost:8080/",
          "height": 35
        },
        "id": "tblr8Q2H6PQ8",
        "outputId": "c6f93555-d7de-429f-e1d3-290f2211f658"
      },
      "outputs": [
        {
          "data": {
            "application/vnd.google.colaboratory.intrinsic+json": {
              "type": "string"
            },
            "text/plain": [
              "'LUNA'"
            ]
          },
          "execution_count": 38,
          "metadata": {},
          "output_type": "execute_result"
        }
      ],
      "source": [
        "pet['NOMBRE ANIMAL'].value_counts().idxmax()"
      ]
    },
    {
      "cell_type": "markdown",
      "metadata": {
        "id": "z1pueaya6QLD"
      },
      "source": [
        "## Pregunta #2\n",
        "\n",
        "¿Cuál es la raza más común de la localidad de suba?"
      ]
    },
    {
      "cell_type": "code",
      "execution_count": null,
      "metadata": {
        "colab": {
          "base_uri": "https://localhost:8080/",
          "height": 35
        },
        "id": "ZIn6T1MG6_KL",
        "outputId": "81aeead7-69d5-4ab2-e7df-ba3d3817f80f"
      },
      "outputs": [
        {
          "data": {
            "application/vnd.google.colaboratory.intrinsic+json": {
              "type": "string"
            },
            "text/plain": [
              "'CRIOLLO'"
            ]
          },
          "execution_count": 58,
          "metadata": {},
          "output_type": "execute_result"
        }
      ],
      "source": [
        "\n",
        "if(pet.LOCALIDAD == 'Suba') pet['RAZA'].value_counts().idxmax()"
      ]
    },
    {
      "cell_type": "markdown",
      "metadata": {
        "id": "APFJjJfL6XEZ"
      },
      "source": [
        "## Pregunta #3\n",
        "\n",
        "¿Cuantos caninos hay en ciudad bolívar con estrato 3?"
      ]
    },
    {
      "cell_type": "code",
      "execution_count": null,
      "metadata": {
        "colab": {
          "base_uri": "https://localhost:8080/"
        },
        "id": "j7Fxe9cH6_xJ",
        "outputId": "062f3a63-b7a6-40dd-ef89-4eb263029498"
      },
      "outputs": [
        {
          "name": "stdout",
          "output_type": "stream",
          "text": [
            "El total de caninos es de: 1179\n"
          ]
        }
      ],
      "source": [
        "p = len(pet[(pet.LOCALIDAD == 'Ciudad Bolívar') & (pet.ESTRATO == 3) & (pet.ESPECIE == 'Canino')])\n",
        "\n",
        "print(\"El total de caninos es de:\", p)"
      ]
    },
    {
      "cell_type": "markdown",
      "metadata": {
        "id": "NnOysKYc6YHW"
      },
      "source": [
        "## Pregunta #4\n",
        "\n",
        "¿Cual es el total de felinos por sexo en la localidad de chapinero?"
      ]
    },
    {
      "cell_type": "code",
      "execution_count": null,
      "metadata": {
        "colab": {
          "base_uri": "https://localhost:8080/"
        },
        "id": "JeGZPy-w7AVx",
        "outputId": "fd5cd2f6-f97e-4617-c22f-6da2c5e407d9"
      },
      "outputs": [
        {
          "name": "stdout",
          "output_type": "stream",
          "text": [
            "El total de felinos por sexo es: 976\n"
          ]
        }
      ],
      "source": [
        "p = len(pet[(pet.ESPECIE == 'Felino') & (pet.LOCALIDAD == 'Chapinero')])\n",
        "\n",
        "print(\"El total de felinos por sexo es:\", p)"
      ]
    },
    {
      "cell_type": "markdown",
      "metadata": {
        "id": "uiY7VNQ_6ZHh"
      },
      "source": [
        "## Pregunta #5\n",
        "\n",
        "¿Cuál es el total de felinos y caninos de raza criollo por localidad?"
      ]
    },
    {
      "cell_type": "code",
      "execution_count": null,
      "metadata": {
        "colab": {
          "base_uri": "https://localhost:8080/"
        },
        "id": "FEwsHrjL7A2g",
        "outputId": "9933f133-c59e-4ce0-f0ef-4ba94182ec73"
      },
      "outputs": [
        {
          "name": "stdout",
          "output_type": "stream",
          "text": [
            "Total de caninos y felinos por localidad con raza criolla es: 137613\n"
          ]
        }
      ],
      "source": [
        "p = len(pet[((pet.ESPECIE == 'Felino') | (pet.ESPECIE == 'Canino')) & (pet.RAZA == 'CRIOLLO')])\n",
        "\n",
        "print(\"Total de caninos y felinos por localidad con raza criolla es:\", p)"
      ]
    },
    {
      "cell_type": "markdown",
      "metadata": {
        "id": "gDJWM6CP6Z9C"
      },
      "source": [
        "## Pregunta #6\n",
        "\n",
        "¿Cuántos microships se usaron por estrato?"
      ]
    },
    {
      "cell_type": "code",
      "execution_count": null,
      "metadata": {
        "colab": {
          "base_uri": "https://localhost:8080/"
        },
        "id": "zAk9Nrnz7Bin",
        "outputId": "146678cb-ff42-44a8-f12d-96af651bce84"
      },
      "outputs": [
        {
          "name": "stdout",
          "output_type": "stream",
          "text": [
            "Cantidad de microships usados por estrato: 206706\n"
          ]
        }
      ],
      "source": [
        "p = len(pet)\n",
        "\n",
        "print(\"Cantidad de microships usados por estrato:\", p)"
      ]
    },
    {
      "cell_type": "markdown",
      "metadata": {
        "id": "UpZyRvLj6a2g"
      },
      "source": [
        "## Pregunta #7\n",
        "\n",
        "¿Cuantos caninos de raza PUG hay en estrato 3 o menor a ese estrato?"
      ]
    },
    {
      "cell_type": "code",
      "execution_count": null,
      "metadata": {
        "colab": {
          "base_uri": "https://localhost:8080/"
        },
        "id": "_olxc80Q7C7W",
        "outputId": "c4dd9546-9af5-4b92-ed26-fc9ff7045ca3"
      },
      "outputs": [
        {
          "name": "stdout",
          "output_type": "stream",
          "text": [
            "Cantidad de Raza pug: 1183\n"
          ]
        }
      ],
      "source": [
        "p = len(pet[(pet.ESPECIE == 'Canino') & (pet.RAZA == 'PUG') & (pet.ESTRATO <= 3)])\n",
        "\n",
        "print(\"Cantidad de Raza pug:\", p)"
      ]
    },
    {
      "cell_type": "markdown",
      "metadata": {
        "id": "zJKD9BOl6byT"
      },
      "source": [
        "## Pregunta #8\n",
        "\n",
        "¿En qué año se implementó más el microchip por especie?"
      ]
    },
    {
      "cell_type": "code",
      "execution_count": null,
      "metadata": {
        "colab": {
          "base_uri": "https://localhost:8080/"
        },
        "id": "i7iTup-J7DpA",
        "outputId": "4744f85c-1bdd-4bf3-b9d5-d404ee9078a5"
      },
      "outputs": [
        {
          "data": {
            "text/plain": [
              "2017-05-28    5824\n",
              "2019-12-01    1547\n",
              "2017-05-13    1329\n",
              "2017-11-26    1280\n",
              "2018-10-20    1082\n",
              "              ... \n",
              "2015-12-07       1\n",
              "2015-01-28       1\n",
              "2015-01-30       1\n",
              "2015-02-02       1\n",
              "2019-12-31       1\n",
              "Name: FECHA REG. IMPLANTE, Length: 1709, dtype: int64"
            ]
          },
          "execution_count": 19,
          "metadata": {},
          "output_type": "execute_result"
        }
      ],
      "source": [
        "pet['FECHA REG. IMPLANTE'].value_counts()"
      ]
    },
    {
      "cell_type": "markdown",
      "metadata": {
        "id": "WAtsIegK6cht"
      },
      "source": [
        "## Pregunta #9\n",
        "\n",
        "¿Cual es el porcentaje por sexo y año de los caninos?"
      ]
    },
    {
      "cell_type": "code",
      "execution_count": null,
      "metadata": {
        "colab": {
          "base_uri": "https://localhost:8080/"
        },
        "id": "TkYQcE667EOA",
        "outputId": "ebb12456-2b7b-49cc-8f00-3d5f5a9412c5"
      },
      "outputs": [
        {
          "name": "stdout",
          "output_type": "stream",
          "text": [
            "El procentaje de caninos es:  58.137644770833944\n"
          ]
        }
      ],
      "source": [
        "p = len(pet[(pet.ESPECIE == 'Canino')])\n",
        "v = len(pet)\n",
        "x = (p / v) * 100\n",
        "\n",
        "print(\"El procentaje de caninos es: \", x)"
      ]
    },
    {
      "cell_type": "markdown",
      "metadata": {
        "id": "K9Go6_bX6dZZ"
      },
      "source": [
        "## Pregunta #10\n",
        "\n",
        "¿Cuantos felinos no esterilizados hay en la localidad de Bosa?"
      ]
    },
    {
      "cell_type": "code",
      "execution_count": null,
      "metadata": {
        "colab": {
          "base_uri": "https://localhost:8080/"
        },
        "id": "CEEc2SPX7EpJ",
        "outputId": "e49d4add-7be7-4230-eb33-b7aebe929d84"
      },
      "outputs": [
        {
          "name": "stdout",
          "output_type": "stream",
          "text": [
            "Hay una cantidad de:  866\n"
          ]
        }
      ],
      "source": [
        "p = len(pet[(pet.ESPECIE == 'Felino') & (pet.LOCALIDAD == 'Bosa') & (pet.ESTERILIZACION == 'NO REGISTRADA')])\n",
        "\n",
        "print(\"Hay una cantidad de: \", p)"
      ]
    },
    {
      "cell_type": "markdown",
      "metadata": {
        "id": "cKj_2sOR6eMz"
      },
      "source": [
        "## Pregunta #11\n",
        "\n",
        "¿Cuantos felinos por sexo hay en el archivo?"
      ]
    },
    {
      "cell_type": "code",
      "execution_count": null,
      "metadata": {
        "colab": {
          "base_uri": "https://localhost:8080/"
        },
        "id": "YjkxBITz7FFb",
        "outputId": "be9976dd-76f0-421f-dbbd-d9817439087a"
      },
      "outputs": [
        {
          "name": "stdout",
          "output_type": "stream",
          "text": [
            "Hay una cantidad de felinos de:  86532\n"
          ]
        }
      ],
      "source": [
        "p = len(pet[(pet.ESPECIE == 'Felino')])\n",
        "\n",
        "print(\"Hay una cantidad de felinos de: \", p)"
      ]
    },
    {
      "cell_type": "markdown",
      "metadata": {
        "id": "VihuWeqK6f5x"
      },
      "source": [
        "## Pregunta #12\n",
        "\n",
        "¿Cuantos Golden retriever hay por localidad?"
      ]
    },
    {
      "cell_type": "code",
      "execution_count": null,
      "metadata": {
        "colab": {
          "base_uri": "https://localhost:8080/"
        },
        "id": "yWn9c77L7Fj4",
        "outputId": "e1acea43-c412-4525-f749-90330d0dc278"
      },
      "outputs": [
        {
          "name": "stdout",
          "output_type": "stream",
          "text": [
            "Por localidad hay un total de Golden Retriever de:  2840\n"
          ]
        }
      ],
      "source": [
        "p = len(pet[(pet.RAZA == 'GOLDEN RETRIEVER')].LOCALIDAD)\n",
        "\n",
        "print(\"Por localidad hay un total de Golden Retriever de: \", p)\n"
      ]
    }
  ],
  "metadata": {
    "colab": {
      "collapsed_sections": [],
      "name": "Proyecto_Sistemas_Información.ipynb",
      "provenance": []
    },
    "kernelspec": {
      "display_name": "Python 3",
      "name": "python3"
    },
    "language_info": {
      "codemirror_mode": {
        "name": "ipython",
        "version": 3
      },
      "file_extension": ".py",
      "mimetype": "text/x-python",
      "name": "python",
      "nbconvert_exporter": "python",
      "pygments_lexer": "ipython3",
      "version": "3.10.2"
    }
  },
  "nbformat": 4,
  "nbformat_minor": 0
}
